{
 "cells": [
  {
   "cell_type": "code",
   "execution_count": 1,
   "metadata": {
    "collapsed": true
   },
   "outputs": [
    {
     "name": "stderr",
     "output_type": "stream",
     "text": [
      "/opt/anaconda3/lib/python3.7/site-packages/tensorflow/python/framework/dtypes.py:526: FutureWarning: Passing (type, 1) or '1type' as a synonym of type is deprecated; in a future version of numpy, it will be understood as (type, (1,)) / '(1,)type'.\n",
      "  _np_qint8 = np.dtype([(\"qint8\", np.int8, 1)])\n",
      "/opt/anaconda3/lib/python3.7/site-packages/tensorflow/python/framework/dtypes.py:527: FutureWarning: Passing (type, 1) or '1type' as a synonym of type is deprecated; in a future version of numpy, it will be understood as (type, (1,)) / '(1,)type'.\n",
      "  _np_quint8 = np.dtype([(\"quint8\", np.uint8, 1)])\n",
      "/opt/anaconda3/lib/python3.7/site-packages/tensorflow/python/framework/dtypes.py:528: FutureWarning: Passing (type, 1) or '1type' as a synonym of type is deprecated; in a future version of numpy, it will be understood as (type, (1,)) / '(1,)type'.\n",
      "  _np_qint16 = np.dtype([(\"qint16\", np.int16, 1)])\n",
      "/opt/anaconda3/lib/python3.7/site-packages/tensorflow/python/framework/dtypes.py:529: FutureWarning: Passing (type, 1) or '1type' as a synonym of type is deprecated; in a future version of numpy, it will be understood as (type, (1,)) / '(1,)type'.\n",
      "  _np_quint16 = np.dtype([(\"quint16\", np.uint16, 1)])\n",
      "/opt/anaconda3/lib/python3.7/site-packages/tensorflow/python/framework/dtypes.py:530: FutureWarning: Passing (type, 1) or '1type' as a synonym of type is deprecated; in a future version of numpy, it will be understood as (type, (1,)) / '(1,)type'.\n",
      "  _np_qint32 = np.dtype([(\"qint32\", np.int32, 1)])\n",
      "/opt/anaconda3/lib/python3.7/site-packages/tensorflow/python/framework/dtypes.py:535: FutureWarning: Passing (type, 1) or '1type' as a synonym of type is deprecated; in a future version of numpy, it will be understood as (type, (1,)) / '(1,)type'.\n",
      "  np_resource = np.dtype([(\"resource\", np.ubyte, 1)])\n"
     ]
    }
   ],
   "source": [
    "import pandas as pd\n",
    "import xml.etree.ElementTree as ET\n",
    "import tensorflow as tf\n",
    "import tensorflow.contrib.eager as tfe\n",
    "from PIL import Image\n",
    "import io\n"
   ]
  },
  {
   "cell_type": "code",
   "execution_count": 2,
   "metadata": {},
   "outputs": [],
   "source": [
    "tfe.enable_eager_execution()\n"
   ]
  },
  {
   "cell_type": "code",
   "execution_count": 3,
   "metadata": {},
   "outputs": [],
   "source": [
    "train_path='./data/bird2_train/'\n",
    "test_path='./data/bird2_test/'"
   ]
  },
  {
   "cell_type": "markdown",
   "metadata": {},
   "source": [
    "## Create Dataframe from CVAT XML"
   ]
  },
  {
   "cell_type": "code",
   "execution_count": 4,
   "metadata": {},
   "outputs": [],
   "source": [
    "def create_df_xml(input1):\n",
    "    annotation=ET.parse(f'../data/bird2_{input1}/{input1}_annotations.xml')\n",
    "    root=annotation.getroot()\n",
    "    df_cols=['root','filename','w','h']\n",
    "    df_rows=[]\n",
    "    for node in root.iter('image'):\n",
    "        #print (list(node.attrib.values()))\n",
    "        s_root=f'../data/bird2_{input1}/'\n",
    "        s_name=list(node.attrib.values())[1]\n",
    "        s_height=list(node.attrib.values())[3]\n",
    "        s_width=list(node.attrib.values())[2]\n",
    "         \n",
    "        \n",
    "    \n",
    "        df_rows.append({'root':s_root,'filename': s_name,'w':s_width,'h':s_height,\n",
    "                            })\n",
    "        x1=pd.DataFrame(df_rows, columns = df_cols)\n",
    "    df_cols=['x1','x2','y1','y2']\n",
    "    df_rows=[]\n",
    "    for node in root.iter('image'):\n",
    "        for node1 in node:\n",
    "            s_x1=list(node1.attrib.values())[2]\n",
    "            s_x2=list(node1.attrib.values())[4]\n",
    "            s_y1=list(node1.attrib.values())[3]\n",
    "            s_y2=list(node1.attrib.values())[5]\n",
    "   \n",
    "            df_rows.append({\n",
    "                            'x1':s_x1,'x2':s_x2,'y1':s_y1,'y2':s_y2})\n",
    "        x2=pd.DataFrame(df_rows,columns=df_cols)\n",
    "    x4= pd.concat((x1,x2),axis=1)    \n",
    "    x4['w']=x4['w'].astype(int)\n",
    "    x4['h']=x4['h'].astype(int)\n",
    "    x4['x1']=x4['x1'].astype(float).round().astype(int)\n",
    "    x4['x2']=x4['x2'].astype(float).round().astype(int)\n",
    "    x4['y1']=x4['y1'].astype(float).round().astype(int)\n",
    "    x4['y2']=x4['y2'].astype(float).round().astype(int) \n",
    "    return x4"
   ]
  },
  {
   "cell_type": "code",
   "execution_count": 5,
   "metadata": {},
   "outputs": [],
   "source": [
    "test1=create_df_xml('test')\n",
    "train1=create_df_xml('train')"
   ]
  },
  {
   "cell_type": "code",
   "execution_count": 6,
   "metadata": {},
   "outputs": [
    {
     "data": {
      "text/html": [
       "<div>\n",
       "<style scoped>\n",
       "    .dataframe tbody tr th:only-of-type {\n",
       "        vertical-align: middle;\n",
       "    }\n",
       "\n",
       "    .dataframe tbody tr th {\n",
       "        vertical-align: top;\n",
       "    }\n",
       "\n",
       "    .dataframe thead th {\n",
       "        text-align: right;\n",
       "    }\n",
       "</style>\n",
       "<table border=\"1\" class=\"dataframe\">\n",
       "  <thead>\n",
       "    <tr style=\"text-align: right;\">\n",
       "      <th></th>\n",
       "      <th>root</th>\n",
       "      <th>filename</th>\n",
       "      <th>w</th>\n",
       "      <th>h</th>\n",
       "      <th>x1</th>\n",
       "      <th>x2</th>\n",
       "      <th>y1</th>\n",
       "      <th>y2</th>\n",
       "    </tr>\n",
       "  </thead>\n",
       "  <tbody>\n",
       "    <tr>\n",
       "      <th>0</th>\n",
       "      <td>../data/bird2_train/</td>\n",
       "      <td>Blue_Jay_00.jpg</td>\n",
       "      <td>600</td>\n",
       "      <td>391</td>\n",
       "      <td>102</td>\n",
       "      <td>445</td>\n",
       "      <td>52</td>\n",
       "      <td>333</td>\n",
       "    </tr>\n",
       "    <tr>\n",
       "      <th>1</th>\n",
       "      <td>../data/bird2_train/</td>\n",
       "      <td>Blue_Jay_001.jpg</td>\n",
       "      <td>960</td>\n",
       "      <td>640</td>\n",
       "      <td>403</td>\n",
       "      <td>835</td>\n",
       "      <td>72</td>\n",
       "      <td>435</td>\n",
       "    </tr>\n",
       "    <tr>\n",
       "      <th>2</th>\n",
       "      <td>../data/bird2_train/</td>\n",
       "      <td>Blue_Jay_00111.jpg</td>\n",
       "      <td>480</td>\n",
       "      <td>360</td>\n",
       "      <td>42</td>\n",
       "      <td>430</td>\n",
       "      <td>43</td>\n",
       "      <td>269</td>\n",
       "    </tr>\n",
       "    <tr>\n",
       "      <th>3</th>\n",
       "      <td>../data/bird2_train/</td>\n",
       "      <td>Blue_Jay_0031.jpg</td>\n",
       "      <td>570</td>\n",
       "      <td>380</td>\n",
       "      <td>257</td>\n",
       "      <td>487</td>\n",
       "      <td>60</td>\n",
       "      <td>309</td>\n",
       "    </tr>\n",
       "    <tr>\n",
       "      <th>4</th>\n",
       "      <td>../data/bird2_train/</td>\n",
       "      <td>Blue_Jay_00343.jpg</td>\n",
       "      <td>540</td>\n",
       "      <td>346</td>\n",
       "      <td>118</td>\n",
       "      <td>472</td>\n",
       "      <td>35</td>\n",
       "      <td>245</td>\n",
       "    </tr>\n",
       "  </tbody>\n",
       "</table>\n",
       "</div>"
      ],
      "text/plain": [
       "                   root            filename    w    h   x1   x2  y1   y2\n",
       "0  ../data/bird2_train/     Blue_Jay_00.jpg  600  391  102  445  52  333\n",
       "1  ../data/bird2_train/    Blue_Jay_001.jpg  960  640  403  835  72  435\n",
       "2  ../data/bird2_train/  Blue_Jay_00111.jpg  480  360   42  430  43  269\n",
       "3  ../data/bird2_train/   Blue_Jay_0031.jpg  570  380  257  487  60  309\n",
       "4  ../data/bird2_train/  Blue_Jay_00343.jpg  540  346  118  472  35  245"
      ]
     },
     "execution_count": 6,
     "metadata": {},
     "output_type": "execute_result"
    }
   ],
   "source": [
    "train1.head()"
   ]
  },
  {
   "cell_type": "markdown",
   "metadata": {},
   "source": [
    "## Read TFRecord and write images to directory"
   ]
  },
  {
   "cell_type": "code",
   "execution_count": 7,
   "metadata": {},
   "outputs": [],
   "source": [
    "raw_image_dataset = tf.data.TFRecordDataset('../data/bird2_train/birds.tfrecord')"
   ]
  },
  {
   "cell_type": "code",
   "execution_count": 8,
   "metadata": {},
   "outputs": [],
   "source": [
    "image_feature_description = {\n",
    "    'image/filename': tf.io.FixedLenFeature([], tf.string),\n",
    "    'image/height': tf.io.FixedLenFeature([], tf.int64),\n",
    "    'image/width': tf.io.FixedLenFeature([], tf.int64),\n",
    "    'image/encoded': tf.io.FixedLenFeature([], tf.string),\n",
    "    'image/object/bbox/xmin':tf.io.FixedLenFeature([], tf.float32),\n",
    "    'image/object/bbox/xmax':tf.io.FixedLenFeature([], tf.float32),\n",
    "    'image/object/bbox/ymin':tf.io.FixedLenFeature([], tf.float32),\n",
    "    'image/object/bbox/ymax':tf.io.FixedLenFeature([], tf.float32)\n",
    "\n",
    "}"
   ]
  },
  {
   "cell_type": "code",
   "execution_count": 9,
   "metadata": {},
   "outputs": [
    {
     "data": {
      "text/plain": [
       "<DatasetV1Adapter shapes: {image/encoded: (), image/filename: (), image/height: (), image/object/bbox/xmax: (), image/object/bbox/xmin: (), image/object/bbox/ymax: (), image/object/bbox/ymin: (), image/width: ()}, types: {image/encoded: tf.string, image/filename: tf.string, image/height: tf.int64, image/object/bbox/xmax: tf.float32, image/object/bbox/xmin: tf.float32, image/object/bbox/ymax: tf.float32, image/object/bbox/ymin: tf.float32, image/width: tf.int64}>"
      ]
     },
     "execution_count": 9,
     "metadata": {},
     "output_type": "execute_result"
    }
   ],
   "source": [
    "def _parse_image_function(example_proto):\n",
    "  # Parse the input tf.Example proto using the dictionary above.\n",
    "  return tf.io.parse_single_example(example_proto, image_feature_description)\n",
    "\n",
    "parsed_image_dataset = raw_image_dataset.map(_parse_image_function)\n",
    "parsed_image_dataset"
   ]
  },
  {
   "cell_type": "code",
   "execution_count": 10,
   "metadata": {},
   "outputs": [
    {
     "name": "stdout",
     "output_type": "stream",
     "text": [
      "WARNING:tensorflow:From /opt/anaconda3/lib/python3.7/site-packages/tensorflow/python/data/ops/iterator_ops.py:532: colocate_with (from tensorflow.python.framework.ops) is deprecated and will be removed in a future version.\n",
      "Instructions for updating:\n",
      "Colocations handled automatically by placer.\n"
     ]
    }
   ],
   "source": [
    "df_cols=['root','filename','w','h','x1','x2','y1','y2']\n",
    "df_rows=[]\n",
    "\n",
    "for i,image_features in enumerate(parsed_image_dataset):\n",
    "    \n",
    "    ##grab data from our parsed TFRecord file\n",
    "    s_root='../data/bird2_train/'\n",
    "    image_raw = image_features['image/encoded'].numpy()\n",
    "    image_height=image_features['image/height'].numpy()\n",
    "    image_width=image_features['image/width'].numpy()\n",
    "    image_x1=int(round(image_features['image/object/bbox/xmin'].numpy()*image_width))\n",
    "    image_x2=int(round(image_features['image/object/bbox/xmax'].numpy()*image_width))\n",
    "    image_y1=int(round(image_features['image/object/bbox/ymin'].numpy()*image_height))\n",
    "    image_y2=int(round(image_features['image/object/bbox/ymax'].numpy()*image_height))\n",
    "    filename=str(image_features['image/filename'].numpy())\n",
    "    ##extract filename\n",
    "    start = \"b'\"\n",
    "    end = \".rf\"\n",
    "    s = filename\n",
    "    filename=s[s.find(start)+len(start):s.rfind(end)]\n",
    "    \n",
    "    #write out and save image to our training folder\n",
    "    #image = Image.open(io.BytesIO(image_raw))\n",
    "    #image.save(f'../data/bird2_train/{filename}_{i}'+'.jpg', 'jpeg')\n",
    "    filename=f'{filename}_{i}'\n",
    "    #put data into dataframe\n",
    "    df_rows.append({'root':s_root,'filename':filename+'.jpg','w':image_width,'h':image_height,'x1':image_x1,'x2':image_x2,\n",
    "                    'y1':image_y1,'y2':image_y2\n",
    "                            })\n",
    "x4=pd.DataFrame(df_rows, columns = df_cols)\n"
   ]
  },
  {
   "cell_type": "code",
   "execution_count": 13,
   "metadata": {},
   "outputs": [
    {
     "name": "stdout",
     "output_type": "stream",
     "text": [
      "(428, 8)\n"
     ]
    },
    {
     "data": {
      "text/html": [
       "<div>\n",
       "<style scoped>\n",
       "    .dataframe tbody tr th:only-of-type {\n",
       "        vertical-align: middle;\n",
       "    }\n",
       "\n",
       "    .dataframe tbody tr th {\n",
       "        vertical-align: top;\n",
       "    }\n",
       "\n",
       "    .dataframe thead th {\n",
       "        text-align: right;\n",
       "    }\n",
       "</style>\n",
       "<table border=\"1\" class=\"dataframe\">\n",
       "  <thead>\n",
       "    <tr style=\"text-align: right;\">\n",
       "      <th></th>\n",
       "      <th>root</th>\n",
       "      <th>filename</th>\n",
       "      <th>w</th>\n",
       "      <th>h</th>\n",
       "      <th>x1</th>\n",
       "      <th>x2</th>\n",
       "      <th>y1</th>\n",
       "      <th>y2</th>\n",
       "    </tr>\n",
       "  </thead>\n",
       "  <tbody>\n",
       "    <tr>\n",
       "      <th>0</th>\n",
       "      <td>../data/bird2_train/</td>\n",
       "      <td>Western_Meadowlark_0050_77864_jpg_0.jpg</td>\n",
       "      <td>500</td>\n",
       "      <td>400</td>\n",
       "      <td>126</td>\n",
       "      <td>396</td>\n",
       "      <td>110</td>\n",
       "      <td>272</td>\n",
       "    </tr>\n",
       "    <tr>\n",
       "      <th>1</th>\n",
       "      <td>../data/bird2_train/</td>\n",
       "      <td>Blue_Jay_0087_jpg_1.jpg</td>\n",
       "      <td>307</td>\n",
       "      <td>415</td>\n",
       "      <td>16</td>\n",
       "      <td>271</td>\n",
       "      <td>45</td>\n",
       "      <td>321</td>\n",
       "    </tr>\n",
       "    <tr>\n",
       "      <th>2</th>\n",
       "      <td>../data/bird2_train/</td>\n",
       "      <td>Western_Meadowlark_0112_78760_jpg_2.jpg</td>\n",
       "      <td>500</td>\n",
       "      <td>400</td>\n",
       "      <td>149</td>\n",
       "      <td>382</td>\n",
       "      <td>14</td>\n",
       "      <td>303</td>\n",
       "    </tr>\n",
       "    <tr>\n",
       "      <th>3</th>\n",
       "      <td>../data/bird2_train/</td>\n",
       "      <td>Horned_Grebe_0049_34779_jpg_3.jpg</td>\n",
       "      <td>500</td>\n",
       "      <td>333</td>\n",
       "      <td>125</td>\n",
       "      <td>441</td>\n",
       "      <td>55</td>\n",
       "      <td>262</td>\n",
       "    </tr>\n",
       "    <tr>\n",
       "      <th>4</th>\n",
       "      <td>../data/bird2_train/</td>\n",
       "      <td>Western_Meadowlark_0021_78841_jpg_4.jpg</td>\n",
       "      <td>333</td>\n",
       "      <td>500</td>\n",
       "      <td>109</td>\n",
       "      <td>216</td>\n",
       "      <td>56</td>\n",
       "      <td>151</td>\n",
       "    </tr>\n",
       "  </tbody>\n",
       "</table>\n",
       "</div>"
      ],
      "text/plain": [
       "                   root                                 filename    w    h  \\\n",
       "0  ../data/bird2_train/  Western_Meadowlark_0050_77864_jpg_0.jpg  500  400   \n",
       "1  ../data/bird2_train/                  Blue_Jay_0087_jpg_1.jpg  307  415   \n",
       "2  ../data/bird2_train/  Western_Meadowlark_0112_78760_jpg_2.jpg  500  400   \n",
       "3  ../data/bird2_train/        Horned_Grebe_0049_34779_jpg_3.jpg  500  333   \n",
       "4  ../data/bird2_train/  Western_Meadowlark_0021_78841_jpg_4.jpg  333  500   \n",
       "\n",
       "    x1   x2   y1   y2  \n",
       "0  126  396  110  272  \n",
       "1   16  271   45  321  \n",
       "2  149  382   14  303  \n",
       "3  125  441   55  262  \n",
       "4  109  216   56  151  "
      ]
     },
     "execution_count": 13,
     "metadata": {},
     "output_type": "execute_result"
    }
   ],
   "source": [
    "print(x4.shape)\n",
    "x4.head()"
   ]
  },
  {
   "cell_type": "code",
   "execution_count": 14,
   "metadata": {},
   "outputs": [],
   "source": [
    "train2=pd.concat((train1,x4),ignore_index=True)"
   ]
  },
  {
   "cell_type": "code",
   "execution_count": 15,
   "metadata": {},
   "outputs": [
    {
     "name": "stdout",
     "output_type": "stream",
     "text": [
      "(646, 8)\n",
      "(102, 8)\n"
     ]
    }
   ],
   "source": [
    "print(train2.shape)\n",
    "print(test1.shape)"
   ]
  },
  {
   "cell_type": "code",
   "execution_count": 17,
   "metadata": {},
   "outputs": [],
   "source": [
    "train2.to_csv('../data/bird2_train/train2_df.csv')"
   ]
  },
  {
   "cell_type": "code",
   "execution_count": 18,
   "metadata": {},
   "outputs": [],
   "source": [
    "test1.to_csv('../data/bird2_test/test1_df.csv')"
   ]
  },
  {
   "cell_type": "code",
   "execution_count": null,
   "metadata": {},
   "outputs": [],
   "source": []
  }
 ],
 "metadata": {
  "kernelspec": {
   "display_name": "Python 3",
   "language": "python",
   "name": "python3"
  },
  "language_info": {
   "codemirror_mode": {
    "name": "ipython",
    "version": 3
   },
   "file_extension": ".py",
   "mimetype": "text/x-python",
   "name": "python",
   "nbconvert_exporter": "python",
   "pygments_lexer": "ipython3",
   "version": "3.7.4"
  },
  "toc": {
   "base_numbering": 1,
   "nav_menu": {},
   "number_sections": true,
   "sideBar": true,
   "skip_h1_title": false,
   "title_cell": "Table of Contents",
   "title_sidebar": "Contents",
   "toc_cell": false,
   "toc_position": {},
   "toc_section_display": true,
   "toc_window_display": false
  }
 },
 "nbformat": 4,
 "nbformat_minor": 4
}
