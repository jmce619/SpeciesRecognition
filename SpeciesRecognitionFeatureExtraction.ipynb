{
 "cells": [
  {
   "cell_type": "code",
   "execution_count": 95,
   "metadata": {
    "scrolled": false
   },
   "outputs": [],
   "source": [
    "import pandas as pd\n",
    "import numpy as np\n",
    "import matplotlib.pyplot as plt\n",
    "import cv2\n",
    "\n",
    "import keras\n",
    "from keras.preprocessing.image import ImageDataGenerator\n",
    "from tensorflow.keras.models import Sequential\n",
    "from tensorflow.keras.layers import Conv2D, Activation, MaxPooling2D, Flatten,Dense, ZeroPadding2D, Dropout, Input\n",
    "\n",
    "\n"
   ]
  },
  {
   "cell_type": "code",
   "execution_count": 55,
   "metadata": {},
   "outputs": [],
   "source": [
    "train_path='./data/bird_train/'\n",
    "test_path='./data/bird_test/'"
   ]
  },
  {
   "cell_type": "code",
   "execution_count": 85,
   "metadata": {},
   "outputs": [
    {
     "name": "stdout",
     "output_type": "stream",
     "text": [
      "Found 221 images belonging to 6 classes.\n",
      "Found 113 images belonging to 6 classes.\n"
     ]
    }
   ],
   "source": [
    "train1=ImageDataGenerator().flow_from_directory(train_path,\n",
    "                                                    target_size=(224,224),\n",
    "                                                   classes=['black_footed_albatross',\n",
    "                                                           'red_winged_blackbird',\n",
    "                                                           'cardinal','blue_jay',\n",
    "                                                           'western_meadowlark',\n",
    "                                                           'golden_winged_warbler'],\n",
    "                                                           batch_size=5)\n",
    "\n",
    "test1=ImageDataGenerator().flow_from_directory(test_path,\n",
    "                                                    target_size=(224,224),\n",
    "                                                   classes=['black_footed_albatross',\n",
    "                                                           'red_winged_blackbird',\n",
    "                                                           'cardinal','blue_jay',\n",
    "                                                           'western_meadowlark',\n",
    "                                                           'golden_winged_warbler'],\n",
    "                                                           batch_size=5)"
   ]
  },
  {
   "cell_type": "code",
   "execution_count": 82,
   "metadata": {},
   "outputs": [],
   "source": [
    "dummy1=np.zeros((1,3,224,224))"
   ]
  },
  {
   "cell_type": "code",
   "execution_count": null,
   "metadata": {},
   "outputs": [],
   "source": []
  },
  {
   "cell_type": "code",
   "execution_count": 68,
   "metadata": {},
   "outputs": [],
   "source": [
    "model=Sequential()"
   ]
  },
  {
   "cell_type": "code",
   "execution_count": 69,
   "metadata": {},
   "outputs": [],
   "source": [
    "model.add(ZeroPadding2D((1,1),input_shape=(224,224,3)))    \n",
    "model.add(Conv2D(64, (3, 3), activation='relu'))    \n",
    "model.add(ZeroPadding2D((1,1)))    \n",
    "model.add(Conv2D(64, (3, 3), activation='relu'))    \n",
    "model.add(MaxPooling2D((2,2), strides=(2,2)))\n",
    "\n",
    "\n",
    "\n"
   ]
  },
  {
   "cell_type": "code",
   "execution_count": 70,
   "metadata": {},
   "outputs": [],
   "source": [
    "model.add(ZeroPadding2D((1,1)))    \n",
    "model.add(Conv2D(128, (3, 3), activation='relu'))    \n",
    "model.add(ZeroPadding2D((1,1)))    \n",
    "model.add(Conv2D(128, (3, 3), activation='relu'))    \n",
    "model.add(MaxPooling2D((2,2), strides=(2,2)))"
   ]
  },
  {
   "cell_type": "code",
   "execution_count": 71,
   "metadata": {},
   "outputs": [],
   "source": [
    "model.add(ZeroPadding2D((1,1)))    \n",
    "model.add(Conv2D(256, (3, 3), activation='relu'))    \n",
    "model.add(ZeroPadding2D((1,1)))    \n",
    "model.add(Conv2D(256, (3, 3), activation='relu'))    \n",
    "model.add(ZeroPadding2D((1,1)))    \n",
    "model.add(Conv2D(256, (3, 3), activation='relu'))    \n",
    "model.add(MaxPooling2D((2,2), strides=(2,2)))"
   ]
  },
  {
   "cell_type": "code",
   "execution_count": 72,
   "metadata": {},
   "outputs": [],
   "source": [
    "model.add(ZeroPadding2D((1,1)))    \n",
    "model.add(Conv2D(512, (3, 3), activation='relu'))    \n",
    "model.add(ZeroPadding2D((1,1)))    \n",
    "model.add(Conv2D(512, (3, 3), activation='relu'))    \n",
    "model.add(ZeroPadding2D((1,1)))    \n",
    "model.add(Conv2D(512, (3, 3), activation='relu'))    \n",
    "model.add(MaxPooling2D((2,2), strides=(2,2)))"
   ]
  },
  {
   "cell_type": "code",
   "execution_count": 73,
   "metadata": {},
   "outputs": [],
   "source": [
    "model.add(ZeroPadding2D((1,1)))    \n",
    "model.add(Conv2D(512, (3, 3), activation='relu'))    \n",
    "model.add(ZeroPadding2D((1,1)))    \n",
    "model.add(Conv2D(512, (3, 3), activation='relu'))    \n",
    "model.add(ZeroPadding2D((1,1)))    \n",
    "model.add(Conv2D(512, (3, 3), activation='relu'))    \n",
    "model.add(MaxPooling2D((2,2), strides=(2,2)))"
   ]
  },
  {
   "cell_type": "code",
   "execution_count": 74,
   "metadata": {},
   "outputs": [],
   "source": [
    "model.add(Flatten())    \n",
    "model.add(Dense(4096, activation='relu'))    \n",
    "model.add(Dropout(0.5))    \n",
    "model.add(Dense(4096, activation='relu'))    \n",
    "model.add(Dropout(0.5))    \n",
    "model.add(Dense(1000, activation='softmax'))"
   ]
  },
  {
   "cell_type": "code",
   "execution_count": 76,
   "metadata": {},
   "outputs": [
    {
     "ename": "AttributeError",
     "evalue": "'Sequential' object has no attribute 'size'",
     "output_type": "error",
     "traceback": [
      "\u001b[0;31m---------------------------------------------------------------------------\u001b[0m",
      "\u001b[0;31mAttributeError\u001b[0m                            Traceback (most recent call last)",
      "\u001b[0;32m<ipython-input-76-f0cb78fe1315>\u001b[0m in \u001b[0;36m<module>\u001b[0;34m\u001b[0m\n\u001b[0;32m----> 1\u001b[0;31m \u001b[0mmodel\u001b[0m\u001b[0;34m.\u001b[0m\u001b[0msize\u001b[0m\u001b[0;34m\u001b[0m\u001b[0;34m\u001b[0m\u001b[0m\n\u001b[0m",
      "\u001b[0;31mAttributeError\u001b[0m: 'Sequential' object has no attribute 'size'"
     ]
    }
   ],
   "source": [
    "model.size"
   ]
  },
  {
   "cell_type": "code",
   "execution_count": null,
   "metadata": {},
   "outputs": [],
   "source": []
  },
  {
   "cell_type": "code",
   "execution_count": null,
   "metadata": {},
   "outputs": [],
   "source": []
  },
  {
   "cell_type": "code",
   "execution_count": 64,
   "metadata": {},
   "outputs": [],
   "source": [
    "# model.add(Dense(64, # number of neurons for this layer\n",
    "#                 activation  = \"relu\",\n",
    "            \n",
    "#                ))\n",
    "# model.add(Dense(20,\n",
    "#                activation = \"relu\"))"
   ]
  },
  {
   "cell_type": "code",
   "execution_count": null,
   "metadata": {},
   "outputs": [],
   "source": []
  },
  {
   "cell_type": "code",
   "execution_count": 65,
   "metadata": {},
   "outputs": [],
   "source": [
    "# model.add(Dense(6))\n",
    "# model.add(Activation('sigmoid'))"
   ]
  },
  {
   "cell_type": "code",
   "execution_count": 66,
   "metadata": {},
   "outputs": [],
   "source": [
    "#model.compile(loss='categorical_crossentropy',optimizer='adam',metrics=['accuracy'])"
   ]
  },
  {
   "cell_type": "code",
   "execution_count": 67,
   "metadata": {},
   "outputs": [
    {
     "name": "stdout",
     "output_type": "stream",
     "text": [
      "Epoch 1/2\n",
      "23/23 [==============================] - 32s 1s/step - loss: 1.7920 - acc: 0.1947\n",
      "45/45 [==============================] - 338s 8s/step - loss: 1.7921 - acc: 0.1493 - val_loss: 1.7920 - val_acc: 0.1947\n",
      "Epoch 2/2\n",
      "23/23 [==============================] - 28s 1s/step - loss: 1.7942 - acc: 0.1947\n",
      "45/45 [==============================] - 264s 6s/step - loss: 1.7923 - acc: 0.1267 - val_loss: 1.7942 - val_acc: 0.1947\n"
     ]
    }
   ],
   "source": [
    "#history=model.fit(train1,validation_data=test1,steps_per_epoch=3,epochs=2)"
   ]
  },
  {
   "cell_type": "code",
   "execution_count": 89,
   "metadata": {},
   "outputs": [],
   "source": [
    "model=Sequential()"
   ]
  },
  {
   "cell_type": "code",
   "execution_count": null,
   "metadata": {},
   "outputs": [],
   "source": [
    "model.add(RoiPoolingConv())"
   ]
  },
  {
   "cell_type": "code",
   "execution_count": 93,
   "metadata": {},
   "outputs": [],
   "source": [
    "from keras.engine.topology import Layer\n",
    "import keras.backend as K\n",
    "import keras.layers as KL\n",
    "import keras.models as KM"
   ]
  },
  {
   "cell_type": "code",
   "execution_count": null,
   "metadata": {},
   "outputs": [],
   "source": [
    "def initial_vgg16(input_block,filters,kernel_size,stage): \n",
    "    filter1,filter2,filter3=filters\n",
    "    x=KL.\n"
   ]
  },
  {
   "cell_type": "code",
   "execution_count": null,
   "metadata": {},
   "outputs": [],
   "source": []
  },
  {
   "cell_type": "code",
   "execution_count": null,
   "metadata": {},
   "outputs": [],
   "source": [
    "def initial_vgg16(input_block,kernel_size)  \n",
    "    model.add(ZeroPadding2D((1,1),input_shape=(224,224,3)))    \n",
    "    model.add(Conv2D(64, (3, 3), activation='relu'))    \n",
    "    model.add(ZeroPadding2D((1,1)))    \n",
    "    model.add(Conv2D(64, (3, 3), activation='relu'))    \n",
    "    model.add(MaxPooling2D((2,2), strides=(2,2)))"
   ]
  },
  {
   "cell_type": "code",
   "execution_count": 91,
   "metadata": {},
   "outputs": [],
   "source": [
    "\n",
    "def vgg16block(input_block, filters,kernel_size):\n",
    "    model.add(ZeroPadding2D((1,1)))    \n",
    "    model.add(Conv2D(filters,kernel_size, activation='relu'))    \n",
    "    model.add(ZeroPadding2D((1,1)))    \n",
    "    model.add(Conv2D(filters, kernel_size, activation='relu'))    \n",
    "    model.add(MaxPooling2D((2,2), strides=(2,2)))\n",
    "    return model\n",
    "\n"
   ]
  },
  {
   "cell_type": "code",
   "execution_count": 92,
   "metadata": {},
   "outputs": [
    {
     "data": {
      "text/plain": [
       "<tensorflow.python.keras.engine.sequential.Sequential at 0x65d982850>"
      ]
     },
     "execution_count": 92,
     "metadata": {},
     "output_type": "execute_result"
    }
   ],
   "source": [
    "vgg16block(model,128,(3,3))"
   ]
  },
  {
   "cell_type": "code",
   "execution_count": null,
   "metadata": {},
   "outputs": [],
   "source": []
  },
  {
   "cell_type": "code",
   "execution_count": null,
   "metadata": {},
   "outputs": [],
   "source": []
  },
  {
   "cell_type": "code",
   "execution_count": 87,
   "metadata": {},
   "outputs": [],
   "source": [
    "\n",
    "if K.backend() == 'tensorflow':\n",
    "    import tensorflow as tf"
   ]
  },
  {
   "cell_type": "code",
   "execution_count": 88,
   "metadata": {},
   "outputs": [],
   "source": [
    "class RoiPoolingConv(Layer):\n",
    "    '''ROI pooling layer for 2D inputs.\n",
    "    See Spatial Pyramid Pooling in Deep Convolutional Networks for Visual Recognition,\n",
    "    K. He, X. Zhang, S. Ren, J. Sun\n",
    "    # Arguments\n",
    "        pool_size: int\n",
    "            Size of pooling region to use. pool_size = 7 will result in a 7x7 region.\n",
    "        num_rois: number of regions of interest to be used\n",
    "    # Input shape\n",
    "        list of two 4D tensors [X_img,X_roi] with shape:\n",
    "        X_img:\n",
    "        `(1, channels, rows, cols)` if dim_ordering='th'\n",
    "        or 4D tensor with shape:\n",
    "        `(1, rows, cols, channels)` if dim_ordering='tf'.\n",
    "        X_roi:\n",
    "        `(1,num_rois,4)` list of rois, with ordering (x,y,w,h)\n",
    "    # Output shape\n",
    "        3D tensor with shape:\n",
    "        `(1, num_rois, channels, pool_size, pool_size)`\n",
    "    '''\n",
    "    def __init__(self, pool_size, num_rois, **kwargs):\n",
    "\n",
    "        self.dim_ordering = K.image_dim_ordering()\n",
    "        assert self.dim_ordering in {'tf', 'th'}, 'dim_ordering must be in {tf, th}'\n",
    "\n",
    "        self.pool_size = pool_size\n",
    "        self.num_rois = num_rois\n",
    "\n",
    "        super(RoiPoolingConv, self).__init__(**kwargs)\n",
    "\n",
    "    def build(self, input_shape):\n",
    "        if self.dim_ordering == 'th':\n",
    "            self.nb_channels = input_shape[0][1]\n",
    "        elif self.dim_ordering == 'tf':\n",
    "            self.nb_channels = input_shape[0][3]\n",
    "\n",
    "    def compute_output_shape(self, input_shape):\n",
    "        if self.dim_ordering == 'th':\n",
    "            return None, self.num_rois, self.nb_channels, self.pool_size, self.pool_size\n",
    "        else:\n",
    "            return None, self.num_rois, self.pool_size, self.pool_size, self.nb_channels\n",
    "\n",
    "    def call(self, x, mask=None):\n",
    "\n",
    "        assert(len(x) == 2)\n",
    "\n",
    "        img = x[0]\n",
    "        rois = x[1]\n",
    "\n",
    "        input_shape = K.shape(img)\n",
    "\n",
    "        outputs = []\n",
    "\n",
    "        for roi_idx in range(self.num_rois):\n",
    "\n",
    "            x = rois[0, roi_idx, 0]\n",
    "            y = rois[0, roi_idx, 1]\n",
    "            w = rois[0, roi_idx, 2]\n",
    "            h = rois[0, roi_idx, 3]\n",
    "            \n",
    "            row_length = w / float(self.pool_size)\n",
    "            col_length = h / float(self.pool_size)\n",
    "\n",
    "            num_pool_regions = self.pool_size\n",
    "\n",
    "            #NOTE: the RoiPooling implementation differs between theano and tensorflow due to the lack of a resize op\n",
    "            # in theano. The theano implementation is much less efficient and leads to long compile times\n",
    "\n",
    "            if self.dim_ordering == 'th':\n",
    "                for jy in range(num_pool_regions):\n",
    "                    for ix in range(num_pool_regions):\n",
    "                        x1 = x + ix * row_length\n",
    "                        x2 = x1 + row_length\n",
    "                        y1 = y + jy * col_length\n",
    "                        y2 = y1 + col_length\n",
    "\n",
    "                        x1 = K.cast(x1, 'int32')\n",
    "                        x2 = K.cast(x2, 'int32')\n",
    "                        y1 = K.cast(y1, 'int32')\n",
    "                        y2 = K.cast(y2, 'int32')\n",
    "\n",
    "                        x2 = x1 + K.maximum(1,x2-x1)\n",
    "                        y2 = y1 + K.maximum(1,y2-y1)\n",
    "                        \n",
    "                        new_shape = [input_shape[0], input_shape[1],\n",
    "                                     y2 - y1, x2 - x1]\n",
    "\n",
    "                        x_crop = img[:, :, y1:y2, x1:x2]\n",
    "                        xm = K.reshape(x_crop, new_shape)\n",
    "                        pooled_val = K.max(xm, axis=(2, 3))\n",
    "                        outputs.append(pooled_val)\n",
    "\n",
    "            elif self.dim_ordering == 'tf':\n",
    "                x = K.cast(x, 'int32')\n",
    "                y = K.cast(y, 'int32')\n",
    "                w = K.cast(w, 'int32')\n",
    "                h = K.cast(h, 'int32')\n",
    "\n",
    "                rs = tf.image.resize_images(img[:, y:y+h, x:x+w, :], (self.pool_size, self.pool_size))\n",
    "                outputs.append(rs)\n",
    "\n",
    "        final_output = K.concatenate(outputs, axis=0)\n",
    "        final_output = K.reshape(final_output, (1, self.num_rois, self.pool_size, self.pool_size, self.nb_channels))\n",
    "\n",
    "        if self.dim_ordering == 'th':\n",
    "            final_output = K.permute_dimensions(final_output, (0, 1, 4, 2, 3))\n",
    "        else:\n",
    "            final_output = K.permute_dimensions(final_output, (0, 1, 2, 3, 4))\n",
    "\n",
    "        return final_output\n",
    "    \n",
    "    \n",
    "    def get_config(self):\n",
    "        config = {'pool_size': self.pool_size,\n",
    "                  'num_rois': self.num_rois}\n",
    "        base_config = super(RoiPoolingConv, self).get_config()\n",
    "        return dict(list(base_config.items()) + list(config.items()))"
   ]
  },
  {
   "cell_type": "code",
   "execution_count": null,
   "metadata": {},
   "outputs": [],
   "source": []
  },
  {
   "cell_type": "code",
   "execution_count": null,
   "metadata": {},
   "outputs": [],
   "source": [
    "class FastRCNN():\n",
    "    \n",
    "    "
   ]
  },
  {
   "cell_type": "code",
   "execution_count": null,
   "metadata": {},
   "outputs": [],
   "source": [
    "#model = FastRCNN()"
   ]
  }
 ],
 "metadata": {
  "kernelspec": {
   "display_name": "Python 3",
   "language": "python",
   "name": "python3"
  },
  "language_info": {
   "codemirror_mode": {
    "name": "ipython",
    "version": 3
   },
   "file_extension": ".py",
   "mimetype": "text/x-python",
   "name": "python",
   "nbconvert_exporter": "python",
   "pygments_lexer": "ipython3",
   "version": "3.7.4"
  },
  "toc": {
   "base_numbering": 1,
   "nav_menu": {},
   "number_sections": true,
   "sideBar": true,
   "skip_h1_title": false,
   "title_cell": "Table of Contents",
   "title_sidebar": "Contents",
   "toc_cell": false,
   "toc_position": {},
   "toc_section_display": true,
   "toc_window_display": false
  }
 },
 "nbformat": 4,
 "nbformat_minor": 4
}
